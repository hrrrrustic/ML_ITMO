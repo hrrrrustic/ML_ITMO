{
 "cells": [
  {
   "cell_type": "code",
   "execution_count": 1,
   "metadata": {
    "colab": {
     "base_uri": "https://localhost:8080/"
    },
    "id": "f4xwflolx_TM",
    "outputId": "4bd24e3c-bfe9-4937-b366-9e95f36c306b",
    "scrolled": false
   },
   "outputs": [
    {
     "name": "stderr",
     "output_type": "stream",
     "text": [
      "Cloning into 'RuBQ'...\n"
     ]
    }
   ],
   "source": [
    "!git clone https://github.com/vladislavneon/RuBQ.git"
   ]
  },
  {
   "cell_type": "code",
   "execution_count": 6,
   "metadata": {},
   "outputs": [
    {
     "name": "stdout",
     "output_type": "stream",
     "text": [
      "Collecting nltk\n",
      "  Downloading nltk-3.7-py3-none-any.whl (1.5 MB)\n",
      "Collecting joblib\n",
      "  Downloading joblib-1.1.0-py2.py3-none-any.whl (306 kB)\n",
      "Collecting click\n",
      "  Downloading click-8.0.4-py3-none-any.whl (97 kB)\n",
      "Collecting tqdm\n",
      "  Downloading tqdm-4.63.0-py2.py3-none-any.whl (76 kB)\n",
      "Collecting regex>=2021.8.3\n",
      "  Downloading regex-2022.3.2-cp310-cp310-win_amd64.whl (274 kB)\n",
      "Requirement already satisfied: colorama in c:\\users\\hrrrrustic\\appdata\\local\\programs\\python\\python310\\lib\\site-packages (from click->nltk) (0.4.4)\n",
      "Installing collected packages: tqdm, regex, joblib, click, nltk\n",
      "Successfully installed click-8.0.4 joblib-1.1.0 nltk-3.7 regex-2022.3.2 tqdm-4.63.0\n"
     ]
    },
    {
     "name": "stderr",
     "output_type": "stream",
     "text": [
      "WARNING: You are using pip version 21.2.4; however, version 22.0.4 is available.\n",
      "You should consider upgrading via the 'C:\\Users\\hrrrrustic\\AppData\\Local\\Programs\\Python\\Python310\\python.exe -m pip install --upgrade pip' command.\n"
     ]
    }
   ],
   "source": [
    "!pip install nltk"
   ]
  },
  {
   "cell_type": "code",
   "execution_count": 8,
   "metadata": {
    "id": "3rtZNeT8yC2A"
   },
   "outputs": [],
   "source": [
    "import json\n",
    "import pandas as pd\n",
    "\n",
    "filepath = \"RuBQ/RuBQ_2.0/RuBQ_2.0_test.json\"\n",
    "with open(filepath, mode=\"r\", encoding=\"utf-8\") as input:\n",
    "  lines = input.readlines()\n",
    "res_json = json.loads(''.join(lines))\n",
    "dataset_temp = [x[\"question_text\"] for x in res_json]"
   ]
  },
  {
   "cell_type": "code",
   "execution_count": 9,
   "metadata": {
    "colab": {
     "base_uri": "https://localhost:8080/"
    },
    "id": "1MzgaJ-2yEiw",
    "outputId": "0d83bb0e-ee9c-471f-dc81-ad8ba6151bce"
   },
   "outputs": [
    {
     "name": "stdout",
     "output_type": "stream",
     "text": [
      "Collecting gdown\n",
      "  Downloading gdown-4.4.0.tar.gz (14 kB)\n",
      "  Installing build dependencies: started\n",
      "  Installing build dependencies: finished with status 'done'\n",
      "  Getting requirements to build wheel: started\n",
      "  Getting requirements to build wheel: finished with status 'done'\n",
      "    Preparing wheel metadata: started\n",
      "    Preparing wheel metadata: finished with status 'done'\n",
      "Requirement already satisfied: tqdm in c:\\users\\hrrrrustic\\appdata\\local\\programs\\python\\python310\\lib\\site-packages (from gdown) (4.63.0)\n",
      "Collecting filelock\n",
      "  Downloading filelock-3.6.0-py3-none-any.whl (10.0 kB)\n",
      "Collecting requests[socks]\n",
      "  Downloading requests-2.27.1-py2.py3-none-any.whl (63 kB)\n",
      "Collecting beautifulsoup4\n",
      "  Downloading beautifulsoup4-4.10.0-py3-none-any.whl (97 kB)\n",
      "Requirement already satisfied: six in c:\\users\\hrrrrustic\\appdata\\local\\programs\\python\\python310\\lib\\site-packages (from gdown) (1.16.0)\n",
      "Collecting soupsieve>1.2\n",
      "  Downloading soupsieve-2.3.1-py3-none-any.whl (37 kB)\n",
      "Collecting idna<4,>=2.5\n",
      "  Downloading idna-3.3-py3-none-any.whl (61 kB)"
     ]
    },
    {
     "name": "stderr",
     "output_type": "stream",
     "text": [
      "WARNING: You are using pip version 21.2.4; however, version 22.0.4 is available.\n",
      "You should consider upgrading via the 'C:\\Users\\hrrrrustic\\AppData\\Local\\Programs\\Python\\Python310\\python.exe -m pip install --upgrade pip' command.\n"
     ]
    },
    {
     "name": "stdout",
     "output_type": "stream",
     "text": [
      "\n",
      "Collecting certifi>=2017.4.17\n",
      "  Downloading certifi-2021.10.8-py2.py3-none-any.whl (149 kB)\n",
      "Collecting charset-normalizer~=2.0.0\n",
      "  Downloading charset_normalizer-2.0.12-py3-none-any.whl (39 kB)\n",
      "Collecting urllib3<1.27,>=1.21.1\n",
      "  Downloading urllib3-1.26.8-py2.py3-none-any.whl (138 kB)\n",
      "Collecting PySocks!=1.5.7,>=1.5.6\n",
      "  Downloading PySocks-1.7.1-py3-none-any.whl (16 kB)\n",
      "Requirement already satisfied: colorama in c:\\users\\hrrrrustic\\appdata\\local\\programs\\python\\python310\\lib\\site-packages (from tqdm->gdown) (0.4.4)\n",
      "Building wheels for collected packages: gdown\n",
      "  Building wheel for gdown (PEP 517): started\n",
      "  Building wheel for gdown (PEP 517): finished with status 'done'\n",
      "  Created wheel for gdown: filename=gdown-4.4.0-py3-none-any.whl size=14775 sha256=15e794eb88ceb6ea22df9bcb670ce9921ae01b0c621c2aafcdffafecc3d38d0d\n",
      "  Stored in directory: C:\\Users\\hrrrrustic\\AppData\\Local\\Temp\\pip-ephem-wheel-cache-y5k5yujx\\wheels\\03\\0b\\3f\\6ddf67a417a5b400b213b0bb772a50276c199a386b12c06bfc\n",
      "Successfully built gdown\n",
      "Installing collected packages: urllib3, idna, charset-normalizer, certifi, soupsieve, requests, PySocks, filelock, beautifulsoup4, gdown\n",
      "Successfully installed PySocks-1.7.1 beautifulsoup4-4.10.0 certifi-2021.10.8 charset-normalizer-2.0.12 filelock-3.6.0 gdown-4.4.0 idna-3.3 requests-2.27.1 soupsieve-2.3.1 urllib3-1.26.8\n",
      "Collecting fasttext\n",
      "  Downloading fasttext-0.9.2.tar.gz (68 kB)\n",
      "Collecting pybind11>=2.2\n",
      "  Using cached pybind11-2.9.1-py2.py3-none-any.whl (211 kB)\n",
      "Requirement already satisfied: setuptools>=0.7.0 in c:\\users\\hrrrrustic\\appdata\\local\\programs\\python\\python310\\lib\\site-packages (from fasttext) (58.1.0)\n",
      "Requirement already satisfied: numpy in c:\\users\\hrrrrustic\\appdata\\local\\programs\\python\\python310\\lib\\site-packages (from fasttext) (1.22.3)\n",
      "Using legacy 'setup.py install' for fasttext, since package 'wheel' is not installed.\n",
      "Installing collected packages: pybind11, fasttext\n",
      "    Running setup.py install for fasttext: started\n",
      "    Running setup.py install for fasttext: finished with status 'error'\n"
     ]
    },
    {
     "name": "stderr",
     "output_type": "stream",
     "text": [
      "    ERROR: Command errored out with exit status 1:\n",
      "     command: 'C:\\Users\\hrrrrustic\\AppData\\Local\\Programs\\Python\\Python310\\python.exe' -u -c 'import io, os, sys, setuptools, tokenize; sys.argv[0] = '\"'\"'C:\\\\Users\\\\hrrrrustic\\\\AppData\\\\Local\\\\Temp\\\\pip-install-4v09m0de\\\\fasttext_8945b7843cbc4b4c9a9f29ff128941a8\\\\setup.py'\"'\"'; __file__='\"'\"'C:\\\\Users\\\\hrrrrustic\\\\AppData\\\\Local\\\\Temp\\\\pip-install-4v09m0de\\\\fasttext_8945b7843cbc4b4c9a9f29ff128941a8\\\\setup.py'\"'\"';f = getattr(tokenize, '\"'\"'open'\"'\"', open)(__file__) if os.path.exists(__file__) else io.StringIO('\"'\"'from setuptools import setup; setup()'\"'\"');code = f.read().replace('\"'\"'\\r\\n'\"'\"', '\"'\"'\\n'\"'\"');f.close();exec(compile(code, __file__, '\"'\"'exec'\"'\"'))' install --record 'C:\\Users\\hrrrrustic\\AppData\\Local\\Temp\\pip-record-q5n3gw40\\install-record.txt' --single-version-externally-managed --compile --install-headers 'C:\\Users\\hrrrrustic\\AppData\\Local\\Programs\\Python\\Python310\\Include\\fasttext'\n",
      "         cwd: C:\\Users\\hrrrrustic\\AppData\\Local\\Temp\\pip-install-4v09m0de\\fasttext_8945b7843cbc4b4c9a9f29ff128941a8\\\n",
      "    Complete output (52 lines):\n",
      "    C:\\Users\\hrrrrustic\\AppData\\Local\\Programs\\Python\\Python310\\lib\\site-packages\\setuptools\\dist.py:717: UserWarning: Usage of dash-separated 'description-file' will not be supported in future versions. Please use the underscore name 'description_file' instead\n",
      "      warnings.warn(\n",
      "    running install\n",
      "    running build\n",
      "    running build_py\n",
      "    creating build\n",
      "    creating build\\lib.win-amd64-3.10\n",
      "    creating build\\lib.win-amd64-3.10\\fasttext\n",
      "    copying python\\fasttext_module\\fasttext\\FastText.py -> build\\lib.win-amd64-3.10\\fasttext\n",
      "    copying python\\fasttext_module\\fasttext\\__init__.py -> build\\lib.win-amd64-3.10\\fasttext\n",
      "    creating build\\lib.win-amd64-3.10\\fasttext\\util\n",
      "    copying python\\fasttext_module\\fasttext\\util\\util.py -> build\\lib.win-amd64-3.10\\fasttext\\util\n",
      "    copying python\\fasttext_module\\fasttext\\util\\__init__.py -> build\\lib.win-amd64-3.10\\fasttext\\util\n",
      "    creating build\\lib.win-amd64-3.10\\fasttext\\tests\n",
      "    copying python\\fasttext_module\\fasttext\\tests\\test_configurations.py -> build\\lib.win-amd64-3.10\\fasttext\\tests\n",
      "    copying python\\fasttext_module\\fasttext\\tests\\test_script.py -> build\\lib.win-amd64-3.10\\fasttext\\tests\n",
      "    copying python\\fasttext_module\\fasttext\\tests\\__init__.py -> build\\lib.win-amd64-3.10\\fasttext\\tests\n",
      "    running build_ext\n",
      "    building 'fasttext_pybind' extension\n",
      "    creating build\\temp.win-amd64-3.10\n",
      "    creating build\\temp.win-amd64-3.10\\Release\n",
      "    creating build\\temp.win-amd64-3.10\\Release\\python\n",
      "    creating build\\temp.win-amd64-3.10\\Release\\python\\fasttext_module\n",
      "    creating build\\temp.win-amd64-3.10\\Release\\python\\fasttext_module\\fasttext\n",
      "    creating build\\temp.win-amd64-3.10\\Release\\python\\fasttext_module\\fasttext\\pybind\n",
      "    creating build\\temp.win-amd64-3.10\\Release\\src\n",
      "    C:\\Program Files\\Microsoft Visual Studio\\2022\\Enterprise\\VC\\Tools\\MSVC\\14.30.30705\\bin\\HostX86\\x64\\cl.exe /c /nologo /Ox /W3 /GL /DNDEBUG /MD -IC:\\Users\\hrrrrustic\\AppData\\Local\\Programs\\Python\\Python310\\lib\\site-packages\\pybind11\\include -IC:\\Users\\hrrrrustic\\AppData\\Local\\Programs\\Python\\Python310\\lib\\site-packages\\pybind11\\include -Isrc -IC:\\Users\\hrrrrustic\\AppData\\Local\\Programs\\Python\\Python310\\include -IC:\\Users\\hrrrrustic\\AppData\\Local\\Programs\\Python\\Python310\\Include -IC:\\Program Files\\Microsoft Visual Studio\\2022\\Enterprise\\VC\\Tools\\MSVC\\14.30.30705\\ATLMFC\\include -IC:\\Program Files\\Microsoft Visual Studio\\2022\\Enterprise\\VC\\Tools\\MSVC\\14.30.30705\\include -IC:\\Program Files (x86)\\Windows Kits\\NETFXSDK\\4.8\\include\\um -IC:\\Program Files (x86)\\Windows Kits\\10\\include\\10.0.19041.0\\ucrt -IC:\\Program Files (x86)\\Windows Kits\\10\\\\include\\10.0.19041.0\\\\shared -IC:\\Program Files (x86)\\Windows Kits\\10\\\\include\\10.0.19041.0\\\\um -IC:\\Program Files (x86)\\Windows Kits\\10\\\\include\\10.0.19041.0\\\\winrt -IC:\\Program Files (x86)\\Windows Kits\\10\\\\include\\10.0.19041.0\\\\cppwinrt /EHsc /Tppython/fasttext_module/fasttext/pybind/fasttext_pybind.cc /Fobuild\\temp.win-amd64-3.10\\Release\\python/fasttext_module/fasttext/pybind/fasttext_pybind.obj /EHsc /DVERSION_INFO=\\\"0.9.2\\\"\n",
      "    fasttext_pybind.cc\n",
      "    python/fasttext_module/fasttext/pybind/fasttext_pybind.cc(171): error C2065: 'ssize_t': undeclared identifier\n",
      "    python/fasttext_module/fasttext/pybind/fasttext_pybind.cc(171): error C2672: 'pybind11::init': no matching overloaded function found\n",
      "    python/fasttext_module/fasttext/pybind/fasttext_pybind.cc(170): error C2974: 'pybind11::init': invalid template argument for 'CFunc', type expected\n",
      "    C:\\Users\\hrrrrustic\\AppData\\Local\\Programs\\Python\\Python310\\lib\\site-packages\\pybind11\\include\\pybind11\\pybind11.h(1702): note: see declaration of 'pybind11::init'\n",
      "    python/fasttext_module/fasttext/pybind/fasttext_pybind.cc(170): error C2974: 'pybind11::init': invalid template argument for 'Func', type expected\n",
      "    C:\\Users\\hrrrrustic\\AppData\\Local\\Programs\\Python\\Python310\\lib\\site-packages\\pybind11\\include\\pybind11\\pybind11.h(1697): note: see declaration of 'pybind11::init'\n",
      "    python/fasttext_module/fasttext/pybind/fasttext_pybind.cc(170): error C2974: 'pybind11::init': invalid template argument for 'Args', type expected\n",
      "    C:\\Users\\hrrrrustic\\AppData\\Local\\Programs\\Python\\Python310\\lib\\site-packages\\pybind11\\include\\pybind11\\pybind11.h(1690): note: see declaration of 'pybind11::init'\n",
      "    python/fasttext_module/fasttext/pybind/fasttext_pybind.cc(171): error C2672: 'pybind11::class_<fasttext::Vector>::def': no matching overloaded function found\n",
      "    python/fasttext_module/fasttext/pybind/fasttext_pybind.cc(170): error C2780: 'pybind11::class_<fasttext::Vector> &pybind11::class_<fasttext::Vector>::def(const char *,Func &&,const Extra &...)': expects 3 arguments - 1 provided\n",
      "    C:\\Users\\hrrrrustic\\AppData\\Local\\Programs\\Python\\Python310\\lib\\site-packages\\pybind11\\include\\pybind11\\pybind11.h(1416): note: see declaration of 'pybind11::class_<fasttext::Vector>::def'\n",
      "    python/fasttext_module/fasttext/pybind/fasttext_pybind.cc(185): error C2065: 'ssize_t': undeclared identifier\n",
      "    python/fasttext_module/fasttext/pybind/fasttext_pybind.cc(185): error C2065: 'ssize_t': undeclared identifier\n",
      "    python/fasttext_module/fasttext/pybind/fasttext_pybind.cc(185): error C2672: 'pybind11::init': no matching overloaded function found\n",
      "    python/fasttext_module/fasttext/pybind/fasttext_pybind.cc(182): error C2974: 'pybind11::init': invalid template argument for 'CFunc', type expected\n",
      "    C:\\Users\\hrrrrustic\\AppData\\Local\\Programs\\Python\\Python310\\lib\\site-packages\\pybind11\\include\\pybind11\\pybind11.h(1702): note: see declaration of 'pybind11::init'\n",
      "    python/fasttext_module/fasttext/pybind/fasttext_pybind.cc(182): error C2974: 'pybind11::init': invalid template argument for 'Func', type expected\n",
      "    C:\\Users\\hrrrrustic\\AppData\\Local\\Programs\\Python\\Python310\\lib\\site-packages\\pybind11\\include\\pybind11\\pybind11.h(1697): note: see declaration of 'pybind11::init'\n",
      "    python/fasttext_module/fasttext/pybind/fasttext_pybind.cc(182): error C2974: 'pybind11::init': invalid template argument for 'Args', type expected\n",
      "    C:\\Users\\hrrrrustic\\AppData\\Local\\Programs\\Python\\Python310\\lib\\site-packages\\pybind11\\include\\pybind11\\pybind11.h(1690): note: see declaration of 'pybind11::init'\n",
      "    python/fasttext_module/fasttext/pybind/fasttext_pybind.cc(185): error C2672: 'pybind11::class_<fasttext::DenseMatrix>::def': no matching overloaded function found\n",
      "    python/fasttext_module/fasttext/pybind/fasttext_pybind.cc(182): error C2780: 'pybind11::class_<fasttext::DenseMatrix> &pybind11::class_<fasttext::DenseMatrix>::def(const char *,Func &&,const Extra &...)': expects 3 arguments - 1 provided\n",
      "    C:\\Users\\hrrrrustic\\AppData\\Local\\Programs\\Python\\Python310\\lib\\site-packages\\pybind11\\include\\pybind11\\pybind11.h(1416): note: see declaration of 'pybind11::class_<fasttext::DenseMatrix>::def'\n",
      "    error: command 'C:\\\\Program Files\\\\Microsoft Visual Studio\\\\2022\\\\Enterprise\\\\VC\\\\Tools\\\\MSVC\\\\14.30.30705\\\\bin\\\\HostX86\\\\x64\\\\cl.exe' failed with exit code 2\n",
      "    ----------------------------------------\n",
      "ERROR: Command errored out with exit status 1: 'C:\\Users\\hrrrrustic\\AppData\\Local\\Programs\\Python\\Python310\\python.exe' -u -c 'import io, os, sys, setuptools, tokenize; sys.argv[0] = '\"'\"'C:\\\\Users\\\\hrrrrustic\\\\AppData\\\\Local\\\\Temp\\\\pip-install-4v09m0de\\\\fasttext_8945b7843cbc4b4c9a9f29ff128941a8\\\\setup.py'\"'\"'; __file__='\"'\"'C:\\\\Users\\\\hrrrrustic\\\\AppData\\\\Local\\\\Temp\\\\pip-install-4v09m0de\\\\fasttext_8945b7843cbc4b4c9a9f29ff128941a8\\\\setup.py'\"'\"';f = getattr(tokenize, '\"'\"'open'\"'\"', open)(__file__) if os.path.exists(__file__) else io.StringIO('\"'\"'from setuptools import setup; setup()'\"'\"');code = f.read().replace('\"'\"'\\r\\n'\"'\"', '\"'\"'\\n'\"'\"');f.close();exec(compile(code, __file__, '\"'\"'exec'\"'\"'))' install --record 'C:\\Users\\hrrrrustic\\AppData\\Local\\Temp\\pip-record-q5n3gw40\\install-record.txt' --single-version-externally-managed --compile --install-headers 'C:\\Users\\hrrrrustic\\AppData\\Local\\Programs\\Python\\Python310\\Include\\fasttext' Check the logs for full command output.\n",
      "WARNING: You are using pip version 21.2.4; however, version 22.0.4 is available.\n",
      "You should consider upgrading via the 'C:\\Users\\hrrrrustic\\AppData\\Local\\Programs\\Python\\Python310\\python.exe -m pip install --upgrade pip' command.\n",
      "C:\\Users\\hrrrrustic\\AppData\\Local\\Programs\\Python\\Python310\\lib\\site-packages\\gdown\\cli.py:127: FutureWarning: Option `--id` was deprecated in version 4.3.1 and will be removed in 5.0. You don't need to pass it anymore to use a file ID.\n",
      "  warnings.warn(\n",
      "Downloading...\n",
      "From: https://drive.google.com/uc?id=11Q2g2aA-n7fYK95XEB3d6m0CWKSt6rob\n",
      "To: D:\\Other\\Python\\quora_question_pairs_rus.csv.zip\n",
      "\n",
      "  0%|          | 0.00/26.7M [00:00<?, ?B/s]\n",
      "  2%|1         | 524k/26.7M [00:00<00:06, 3.74MB/s]\n",
      "  4%|3         | 1.05M/26.7M [00:00<00:07, 3.22MB/s]\n",
      "  6%|5         | 1.57M/26.7M [00:00<00:07, 3.43MB/s]\n",
      "  8%|7         | 2.10M/26.7M [00:00<00:10, 2.25MB/s]\n",
      " 10%|9         | 2.62M/26.7M [00:01<00:22, 1.09MB/s]\n",
      " 12%|#1        | 3.15M/26.7M [00:02<00:23, 1.00MB/s]\n",
      " 14%|#3        | 3.67M/26.7M [00:02<00:24, 933kB/s] \n",
      " 16%|#5        | 4.19M/26.7M [00:03<00:24, 900kB/s]\n",
      " 18%|#7        | 4.72M/26.7M [00:04<00:24, 890kB/s]\n",
      " 20%|#9        | 5.24M/26.7M [00:04<00:24, 867kB/s]\n",
      " 22%|##1       | 5.77M/26.7M [00:05<00:22, 933kB/s]\n",
      " 24%|##3       | 6.29M/26.7M [00:05<00:21, 946kB/s]\n",
      " 26%|##5       | 6.82M/26.7M [00:06<00:21, 907kB/s]\n",
      " 28%|##7       | 7.34M/26.7M [00:07<00:22, 863kB/s]\n",
      " 29%|##9       | 7.86M/26.7M [00:07<00:22, 835kB/s]\n",
      " 31%|###1      | 8.39M/26.7M [00:08<00:21, 842kB/s]\n",
      " 33%|###3      | 8.91M/26.7M [00:09<00:21, 834kB/s]\n",
      " 35%|###5      | 9.44M/26.7M [00:09<00:20, 851kB/s]\n",
      " 37%|###7      | 9.96M/26.7M [00:09<00:16, 1.01MB/s]\n",
      " 39%|###9      | 10.5M/26.7M [00:10<00:12, 1.27MB/s]\n",
      " 41%|####1     | 11.0M/26.7M [00:10<00:09, 1.57MB/s]\n",
      " 43%|####3     | 11.5M/26.7M [00:10<00:08, 1.85MB/s]\n",
      " 45%|####5     | 12.1M/26.7M [00:10<00:06, 2.16MB/s]\n",
      " 47%|####7     | 12.6M/26.7M [00:10<00:05, 2.55MB/s]\n",
      " 49%|####9     | 13.1M/26.7M [00:10<00:05, 2.70MB/s]\n",
      " 51%|#####1    | 13.6M/26.7M [00:11<00:05, 2.41MB/s]\n",
      " 53%|#####3    | 14.2M/26.7M [00:11<00:06, 2.00MB/s]\n",
      " 55%|#####5    | 14.7M/26.7M [00:11<00:05, 2.24MB/s]\n",
      " 57%|#####7    | 15.2M/26.7M [00:11<00:04, 2.59MB/s]\n",
      " 59%|#####8    | 15.7M/26.7M [00:12<00:05, 2.00MB/s]\n",
      " 61%|######    | 16.3M/26.7M [00:12<00:07, 1.44MB/s]\n",
      " 63%|######2   | 16.8M/26.7M [00:13<00:07, 1.36MB/s]\n",
      " 65%|######4   | 17.3M/26.7M [00:13<00:07, 1.31MB/s]\n",
      " 67%|######6   | 17.8M/26.7M [00:14<00:07, 1.16MB/s]\n",
      " 69%|######8   | 18.4M/26.7M [00:14<00:06, 1.34MB/s]\n",
      " 71%|#######   | 18.9M/26.7M [00:14<00:05, 1.54MB/s]\n",
      " 73%|#######2  | 19.4M/26.7M [00:14<00:04, 1.70MB/s]\n",
      " 75%|#######4  | 19.9M/26.7M [00:15<00:03, 1.79MB/s]\n",
      " 77%|#######6  | 20.4M/26.7M [00:15<00:02, 2.10MB/s]\n",
      " 79%|#######8  | 21.0M/26.7M [00:15<00:02, 2.36MB/s]\n",
      " 81%|########  | 21.5M/26.7M [00:15<00:02, 2.30MB/s]\n",
      " 83%|########2 | 22.0M/26.7M [00:16<00:02, 1.84MB/s]\n",
      " 85%|########4 | 22.5M/26.7M [00:16<00:02, 1.81MB/s]\n",
      " 86%|########6 | 23.1M/26.7M [00:16<00:02, 1.66MB/s]\n",
      " 88%|########8 | 23.6M/26.7M [00:17<00:01, 1.98MB/s]\n",
      " 90%|######### | 24.1M/26.7M [00:17<00:01, 2.27MB/s]\n",
      " 92%|#########2| 24.6M/26.7M [00:17<00:00, 2.55MB/s]\n",
      " 94%|#########4| 25.2M/26.7M [00:17<00:00, 2.85MB/s]\n",
      " 96%|#########6| 25.7M/26.7M [00:17<00:00, 3.05MB/s]\n",
      " 98%|#########8| 26.2M/26.7M [00:17<00:00, 3.19MB/s]\n",
      "100%|##########| 26.7M/26.7M [00:17<00:00, 1.50MB/s]\n",
      "'unzip' is not recognized as an internal or external command,\n",
      "operable program or batch file.\n"
     ]
    }
   ],
   "source": [
    "!pip install --upgrade --no-cache-dir gdown\n",
    "!pip3 install fasttext\n",
    "!gdown --id 11Q2g2aA-n7fYK95XEB3d6m0CWKSt6rob\n",
    "!unzip quora_question_pairs_rus.csv.zip"
   ]
  },
  {
   "cell_type": "code",
   "execution_count": 11,
   "metadata": {
    "id": "wtfvhPfByIVO"
   },
   "outputs": [],
   "source": [
    "quora_df = pd.read_csv('quora_question_pairs_rus.csv', usecols=lambda x: 'Unnamed' not in x)"
   ]
  },
  {
   "cell_type": "code",
   "execution_count": 12,
   "metadata": {
    "id": "QrHmdssAyWoB"
   },
   "outputs": [],
   "source": [
    "from nltk.tokenize import WordPunctTokenizer\n",
    "tokenizer = WordPunctTokenizer()\n",
    "\n",
    "dataset_temp.extend(quora_df[\"question1\"].values)\n",
    "dataset_temp.extend(quora_df[\"question2\"].values)"
   ]
  },
  {
   "cell_type": "code",
   "execution_count": 13,
   "metadata": {
    "colab": {
     "base_uri": "https://localhost:8080/"
    },
    "id": "6yKYnL2Y5opt",
    "outputId": "b8300ab6-e5f3-4776-8417-2058bff5d51d"
   },
   "outputs": [
    {
     "data": {
      "text/plain": [
       "810906"
      ]
     },
     "execution_count": 13,
     "metadata": {},
     "output_type": "execute_result"
    }
   ],
   "source": [
    "len(dataset_temp)"
   ]
  },
  {
   "cell_type": "code",
   "execution_count": 14,
   "metadata": {
    "id": "v0M1XvMQzAPq"
   },
   "outputs": [],
   "source": [
    "import requests\n",
    "def check_spelling(text):\n",
    "  domain = \"https://speller.yandex.net/services/spellservice.json\"\n",
    "  words = text.split()\n",
    "  if len(words) == 1:\n",
    "    request = requests.get(domain + \"/checkText?text=\" + words[0])\n",
    "    if requests:\n",
    "      return request.json()[0][\"word\"], request.json()[0][\"s\"]\n",
    "    else:\n",
    "      return None\n",
    "  elif len(words) > 1:\n",
    "    req = ' '.join(words)\n",
    "    request = requests.get(domain + \"/checkText?text=\" + req)\n",
    "    if requests:\n",
    "      response = [(i[\"word\"], i[\"s\"][0]) for i in request.json()]\n",
    "      for source, fix in response:\n",
    "        text = text.replace(source, fix)\n",
    "      return text\n",
    "    else:\n",
    "      return None\n",
    "  return None"
   ]
  },
  {
   "cell_type": "code",
   "execution_count": 15,
   "metadata": {
    "colab": {
     "base_uri": "https://localhost:8080/",
     "height": 35
    },
    "id": "VSD92nK6Yw56",
    "outputId": "b388bb55-1b4f-45de-eb39-407b1186700d"
   },
   "outputs": [
    {
     "data": {
      "text/plain": [
       "'ночь лестница солнце красиво'"
      ]
     },
     "execution_count": 15,
     "metadata": {},
     "output_type": "execute_result"
    }
   ],
   "source": [
    "check_spelling(\"ноч лесница сонце красиво\")"
   ]
  },
  {
   "cell_type": "code",
   "execution_count": 19,
   "metadata": {
    "scrolled": true
   },
   "outputs": [
    {
     "name": "stdout",
     "output_type": "stream",
     "text": [
      "Collecting fasttext\n",
      "  Using cached fasttext-0.9.2.tar.gz (68 kB)\n",
      "Requirement already satisfied: pybind11>=2.2 in c:\\users\\hrrrrustic\\appdata\\local\\programs\\python\\python310\\lib\\site-packages (from fasttext) (2.9.1)\n",
      "Requirement already satisfied: setuptools>=0.7.0 in c:\\users\\hrrrrustic\\appdata\\local\\programs\\python\\python310\\lib\\site-packages (from fasttext) (58.1.0)\n",
      "Requirement already satisfied: numpy in c:\\users\\hrrrrustic\\appdata\\local\\programs\\python\\python310\\lib\\site-packages (from fasttext) (1.22.3)\n",
      "Building wheels for collected packages: fasttext\n",
      "  Building wheel for fasttext (setup.py): started\n",
      "  Building wheel for fasttext (setup.py): finished with status 'error'\n",
      "  Running setup.py clean for fasttext\n",
      "Failed to build fasttext\n",
      "Installing collected packages: fasttext\n",
      "    Running setup.py install for fasttext: started\n",
      "    Running setup.py install for fasttext: finished with status 'error'\n"
     ]
    },
    {
     "name": "stderr",
     "output_type": "stream",
     "text": [
      "  ERROR: Command errored out with exit status 1:\n",
      "   command: 'C:\\Users\\hrrrrustic\\AppData\\Local\\Programs\\Python\\Python310\\python.exe' -u -c 'import io, os, sys, setuptools, tokenize; sys.argv[0] = '\"'\"'C:\\\\Users\\\\hrrrrustic\\\\AppData\\\\Local\\\\Temp\\\\pip-install-sjb83jog\\\\fasttext_16f4fdff2c9440e2be9618d41b342663\\\\setup.py'\"'\"'; __file__='\"'\"'C:\\\\Users\\\\hrrrrustic\\\\AppData\\\\Local\\\\Temp\\\\pip-install-sjb83jog\\\\fasttext_16f4fdff2c9440e2be9618d41b342663\\\\setup.py'\"'\"';f = getattr(tokenize, '\"'\"'open'\"'\"', open)(__file__) if os.path.exists(__file__) else io.StringIO('\"'\"'from setuptools import setup; setup()'\"'\"');code = f.read().replace('\"'\"'\\r\\n'\"'\"', '\"'\"'\\n'\"'\"');f.close();exec(compile(code, __file__, '\"'\"'exec'\"'\"'))' bdist_wheel -d 'C:\\Users\\hrrrrustic\\AppData\\Local\\Temp\\pip-wheel-stfqi5rw'\n",
      "       cwd: C:\\Users\\hrrrrustic\\AppData\\Local\\Temp\\pip-install-sjb83jog\\fasttext_16f4fdff2c9440e2be9618d41b342663\\\n",
      "  Complete output (52 lines):\n",
      "  C:\\Users\\hrrrrustic\\AppData\\Local\\Programs\\Python\\Python310\\lib\\site-packages\\setuptools\\dist.py:717: UserWarning: Usage of dash-separated 'description-file' will not be supported in future versions. Please use the underscore name 'description_file' instead\n",
      "    warnings.warn(\n",
      "  running bdist_wheel\n",
      "  running build\n",
      "  running build_py\n",
      "  creating build\n",
      "  creating build\\lib.win-amd64-3.10\n",
      "  creating build\\lib.win-amd64-3.10\\fasttext\n",
      "  copying python\\fasttext_module\\fasttext\\FastText.py -> build\\lib.win-amd64-3.10\\fasttext\n",
      "  copying python\\fasttext_module\\fasttext\\__init__.py -> build\\lib.win-amd64-3.10\\fasttext\n",
      "  creating build\\lib.win-amd64-3.10\\fasttext\\util\n",
      "  copying python\\fasttext_module\\fasttext\\util\\util.py -> build\\lib.win-amd64-3.10\\fasttext\\util\n",
      "  copying python\\fasttext_module\\fasttext\\util\\__init__.py -> build\\lib.win-amd64-3.10\\fasttext\\util\n",
      "  creating build\\lib.win-amd64-3.10\\fasttext\\tests\n",
      "  copying python\\fasttext_module\\fasttext\\tests\\test_configurations.py -> build\\lib.win-amd64-3.10\\fasttext\\tests\n",
      "  copying python\\fasttext_module\\fasttext\\tests\\test_script.py -> build\\lib.win-amd64-3.10\\fasttext\\tests\n",
      "  copying python\\fasttext_module\\fasttext\\tests\\__init__.py -> build\\lib.win-amd64-3.10\\fasttext\\tests\n",
      "  running build_ext\n",
      "  building 'fasttext_pybind' extension\n",
      "  creating build\\temp.win-amd64-3.10\n",
      "  creating build\\temp.win-amd64-3.10\\Release\n",
      "  creating build\\temp.win-amd64-3.10\\Release\\python\n",
      "  creating build\\temp.win-amd64-3.10\\Release\\python\\fasttext_module\n",
      "  creating build\\temp.win-amd64-3.10\\Release\\python\\fasttext_module\\fasttext\n",
      "  creating build\\temp.win-amd64-3.10\\Release\\python\\fasttext_module\\fasttext\\pybind\n",
      "  creating build\\temp.win-amd64-3.10\\Release\\src\n",
      "  C:\\Program Files\\Microsoft Visual Studio\\2022\\Enterprise\\VC\\Tools\\MSVC\\14.30.30705\\bin\\HostX86\\x64\\cl.exe /c /nologo /Ox /W3 /GL /DNDEBUG /MD -IC:\\Users\\hrrrrustic\\AppData\\Local\\Programs\\Python\\Python310\\lib\\site-packages\\pybind11\\include -IC:\\Users\\hrrrrustic\\AppData\\Local\\Programs\\Python\\Python310\\lib\\site-packages\\pybind11\\include -Isrc -IC:\\Users\\hrrrrustic\\AppData\\Local\\Programs\\Python\\Python310\\include -IC:\\Users\\hrrrrustic\\AppData\\Local\\Programs\\Python\\Python310\\Include -IC:\\Program Files\\Microsoft Visual Studio\\2022\\Enterprise\\VC\\Tools\\MSVC\\14.30.30705\\ATLMFC\\include -IC:\\Program Files\\Microsoft Visual Studio\\2022\\Enterprise\\VC\\Tools\\MSVC\\14.30.30705\\include -IC:\\Program Files (x86)\\Windows Kits\\NETFXSDK\\4.8\\include\\um -IC:\\Program Files (x86)\\Windows Kits\\10\\include\\10.0.19041.0\\ucrt -IC:\\Program Files (x86)\\Windows Kits\\10\\\\include\\10.0.19041.0\\\\shared -IC:\\Program Files (x86)\\Windows Kits\\10\\\\include\\10.0.19041.0\\\\um -IC:\\Program Files (x86)\\Windows Kits\\10\\\\include\\10.0.19041.0\\\\winrt -IC:\\Program Files (x86)\\Windows Kits\\10\\\\include\\10.0.19041.0\\\\cppwinrt /EHsc /Tppython/fasttext_module/fasttext/pybind/fasttext_pybind.cc /Fobuild\\temp.win-amd64-3.10\\Release\\python/fasttext_module/fasttext/pybind/fasttext_pybind.obj /EHsc /DVERSION_INFO=\\\"0.9.2\\\"\n",
      "  fasttext_pybind.cc\n",
      "  python/fasttext_module/fasttext/pybind/fasttext_pybind.cc(171): error C2065: 'ssize_t': undeclared identifier\n",
      "  python/fasttext_module/fasttext/pybind/fasttext_pybind.cc(171): error C2672: 'pybind11::init': no matching overloaded function found\n",
      "  python/fasttext_module/fasttext/pybind/fasttext_pybind.cc(170): error C2974: 'pybind11::init': invalid template argument for 'CFunc', type expected\n",
      "  C:\\Users\\hrrrrustic\\AppData\\Local\\Programs\\Python\\Python310\\lib\\site-packages\\pybind11\\include\\pybind11\\pybind11.h(1702): note: see declaration of 'pybind11::init'\n",
      "  python/fasttext_module/fasttext/pybind/fasttext_pybind.cc(170): error C2974: 'pybind11::init': invalid template argument for 'Func', type expected\n",
      "  C:\\Users\\hrrrrustic\\AppData\\Local\\Programs\\Python\\Python310\\lib\\site-packages\\pybind11\\include\\pybind11\\pybind11.h(1697): note: see declaration of 'pybind11::init'\n",
      "  python/fasttext_module/fasttext/pybind/fasttext_pybind.cc(170): error C2974: 'pybind11::init': invalid template argument for 'Args', type expected\n",
      "  C:\\Users\\hrrrrustic\\AppData\\Local\\Programs\\Python\\Python310\\lib\\site-packages\\pybind11\\include\\pybind11\\pybind11.h(1690): note: see declaration of 'pybind11::init'\n",
      "  python/fasttext_module/fasttext/pybind/fasttext_pybind.cc(171): error C2672: 'pybind11::class_<fasttext::Vector>::def': no matching overloaded function found\n",
      "  python/fasttext_module/fasttext/pybind/fasttext_pybind.cc(170): error C2780: 'pybind11::class_<fasttext::Vector> &pybind11::class_<fasttext::Vector>::def(const char *,Func &&,const Extra &...)': expects 3 arguments - 1 provided\n",
      "  C:\\Users\\hrrrrustic\\AppData\\Local\\Programs\\Python\\Python310\\lib\\site-packages\\pybind11\\include\\pybind11\\pybind11.h(1416): note: see declaration of 'pybind11::class_<fasttext::Vector>::def'\n",
      "  python/fasttext_module/fasttext/pybind/fasttext_pybind.cc(185): error C2065: 'ssize_t': undeclared identifier\n",
      "  python/fasttext_module/fasttext/pybind/fasttext_pybind.cc(185): error C2065: 'ssize_t': undeclared identifier\n",
      "  python/fasttext_module/fasttext/pybind/fasttext_pybind.cc(185): error C2672: 'pybind11::init': no matching overloaded function found\n",
      "  python/fasttext_module/fasttext/pybind/fasttext_pybind.cc(182): error C2974: 'pybind11::init': invalid template argument for 'CFunc', type expected\n",
      "  C:\\Users\\hrrrrustic\\AppData\\Local\\Programs\\Python\\Python310\\lib\\site-packages\\pybind11\\include\\pybind11\\pybind11.h(1702): note: see declaration of 'pybind11::init'\n",
      "  python/fasttext_module/fasttext/pybind/fasttext_pybind.cc(182): error C2974: 'pybind11::init': invalid template argument for 'Func', type expected\n",
      "  C:\\Users\\hrrrrustic\\AppData\\Local\\Programs\\Python\\Python310\\lib\\site-packages\\pybind11\\include\\pybind11\\pybind11.h(1697): note: see declaration of 'pybind11::init'\n",
      "  python/fasttext_module/fasttext/pybind/fasttext_pybind.cc(182): error C2974: 'pybind11::init': invalid template argument for 'Args', type expected\n",
      "  C:\\Users\\hrrrrustic\\AppData\\Local\\Programs\\Python\\Python310\\lib\\site-packages\\pybind11\\include\\pybind11\\pybind11.h(1690): note: see declaration of 'pybind11::init'\n",
      "  python/fasttext_module/fasttext/pybind/fasttext_pybind.cc(185): error C2672: 'pybind11::class_<fasttext::DenseMatrix>::def': no matching overloaded function found\n",
      "  python/fasttext_module/fasttext/pybind/fasttext_pybind.cc(182): error C2780: 'pybind11::class_<fasttext::DenseMatrix> &pybind11::class_<fasttext::DenseMatrix>::def(const char *,Func &&,const Extra &...)': expects 3 arguments - 1 provided\n",
      "  C:\\Users\\hrrrrustic\\AppData\\Local\\Programs\\Python\\Python310\\lib\\site-packages\\pybind11\\include\\pybind11\\pybind11.h(1416): note: see declaration of 'pybind11::class_<fasttext::DenseMatrix>::def'\n",
      "  error: command 'C:\\\\Program Files\\\\Microsoft Visual Studio\\\\2022\\\\Enterprise\\\\VC\\\\Tools\\\\MSVC\\\\14.30.30705\\\\bin\\\\HostX86\\\\x64\\\\cl.exe' failed with exit code 2\n",
      "  ----------------------------------------\n",
      "  ERROR: Failed building wheel for fasttext\n",
      "    ERROR: Command errored out with exit status 1:\n",
      "     command: 'C:\\Users\\hrrrrustic\\AppData\\Local\\Programs\\Python\\Python310\\python.exe' -u -c 'import io, os, sys, setuptools, tokenize; sys.argv[0] = '\"'\"'C:\\\\Users\\\\hrrrrustic\\\\AppData\\\\Local\\\\Temp\\\\pip-install-sjb83jog\\\\fasttext_16f4fdff2c9440e2be9618d41b342663\\\\setup.py'\"'\"'; __file__='\"'\"'C:\\\\Users\\\\hrrrrustic\\\\AppData\\\\Local\\\\Temp\\\\pip-install-sjb83jog\\\\fasttext_16f4fdff2c9440e2be9618d41b342663\\\\setup.py'\"'\"';f = getattr(tokenize, '\"'\"'open'\"'\"', open)(__file__) if os.path.exists(__file__) else io.StringIO('\"'\"'from setuptools import setup; setup()'\"'\"');code = f.read().replace('\"'\"'\\r\\n'\"'\"', '\"'\"'\\n'\"'\"');f.close();exec(compile(code, __file__, '\"'\"'exec'\"'\"'))' install --record 'C:\\Users\\hrrrrustic\\AppData\\Local\\Temp\\pip-record-rj92figr\\install-record.txt' --single-version-externally-managed --compile --install-headers 'C:\\Users\\hrrrrustic\\AppData\\Local\\Programs\\Python\\Python310\\Include\\fasttext'\n",
      "         cwd: C:\\Users\\hrrrrustic\\AppData\\Local\\Temp\\pip-install-sjb83jog\\fasttext_16f4fdff2c9440e2be9618d41b342663\\\n",
      "    Complete output (52 lines):\n",
      "    C:\\Users\\hrrrrustic\\AppData\\Local\\Programs\\Python\\Python310\\lib\\site-packages\\setuptools\\dist.py:717: UserWarning: Usage of dash-separated 'description-file' will not be supported in future versions. Please use the underscore name 'description_file' instead\n",
      "      warnings.warn(\n",
      "    running install\n",
      "    running build\n",
      "    running build_py\n",
      "    creating build\n",
      "    creating build\\lib.win-amd64-3.10\n",
      "    creating build\\lib.win-amd64-3.10\\fasttext\n",
      "    copying python\\fasttext_module\\fasttext\\FastText.py -> build\\lib.win-amd64-3.10\\fasttext\n",
      "    copying python\\fasttext_module\\fasttext\\__init__.py -> build\\lib.win-amd64-3.10\\fasttext\n",
      "    creating build\\lib.win-amd64-3.10\\fasttext\\util\n",
      "    copying python\\fasttext_module\\fasttext\\util\\util.py -> build\\lib.win-amd64-3.10\\fasttext\\util\n",
      "    copying python\\fasttext_module\\fasttext\\util\\__init__.py -> build\\lib.win-amd64-3.10\\fasttext\\util\n",
      "    creating build\\lib.win-amd64-3.10\\fasttext\\tests\n",
      "    copying python\\fasttext_module\\fasttext\\tests\\test_configurations.py -> build\\lib.win-amd64-3.10\\fasttext\\tests\n",
      "    copying python\\fasttext_module\\fasttext\\tests\\test_script.py -> build\\lib.win-amd64-3.10\\fasttext\\tests\n",
      "    copying python\\fasttext_module\\fasttext\\tests\\__init__.py -> build\\lib.win-amd64-3.10\\fasttext\\tests\n",
      "    running build_ext\n",
      "    building 'fasttext_pybind' extension\n",
      "    creating build\\temp.win-amd64-3.10\n",
      "    creating build\\temp.win-amd64-3.10\\Release\n",
      "    creating build\\temp.win-amd64-3.10\\Release\\python\n",
      "    creating build\\temp.win-amd64-3.10\\Release\\python\\fasttext_module\n",
      "    creating build\\temp.win-amd64-3.10\\Release\\python\\fasttext_module\\fasttext\n",
      "    creating build\\temp.win-amd64-3.10\\Release\\python\\fasttext_module\\fasttext\\pybind\n",
      "    creating build\\temp.win-amd64-3.10\\Release\\src\n",
      "    C:\\Program Files\\Microsoft Visual Studio\\2022\\Enterprise\\VC\\Tools\\MSVC\\14.30.30705\\bin\\HostX86\\x64\\cl.exe /c /nologo /Ox /W3 /GL /DNDEBUG /MD -IC:\\Users\\hrrrrustic\\AppData\\Local\\Programs\\Python\\Python310\\lib\\site-packages\\pybind11\\include -IC:\\Users\\hrrrrustic\\AppData\\Local\\Programs\\Python\\Python310\\lib\\site-packages\\pybind11\\include -Isrc -IC:\\Users\\hrrrrustic\\AppData\\Local\\Programs\\Python\\Python310\\include -IC:\\Users\\hrrrrustic\\AppData\\Local\\Programs\\Python\\Python310\\Include -IC:\\Program Files\\Microsoft Visual Studio\\2022\\Enterprise\\VC\\Tools\\MSVC\\14.30.30705\\ATLMFC\\include -IC:\\Program Files\\Microsoft Visual Studio\\2022\\Enterprise\\VC\\Tools\\MSVC\\14.30.30705\\include -IC:\\Program Files (x86)\\Windows Kits\\NETFXSDK\\4.8\\include\\um -IC:\\Program Files (x86)\\Windows Kits\\10\\include\\10.0.19041.0\\ucrt -IC:\\Program Files (x86)\\Windows Kits\\10\\\\include\\10.0.19041.0\\\\shared -IC:\\Program Files (x86)\\Windows Kits\\10\\\\include\\10.0.19041.0\\\\um -IC:\\Program Files (x86)\\Windows Kits\\10\\\\include\\10.0.19041.0\\\\winrt -IC:\\Program Files (x86)\\Windows Kits\\10\\\\include\\10.0.19041.0\\\\cppwinrt /EHsc /Tppython/fasttext_module/fasttext/pybind/fasttext_pybind.cc /Fobuild\\temp.win-amd64-3.10\\Release\\python/fasttext_module/fasttext/pybind/fasttext_pybind.obj /EHsc /DVERSION_INFO=\\\"0.9.2\\\"\n",
      "    fasttext_pybind.cc\n",
      "    python/fasttext_module/fasttext/pybind/fasttext_pybind.cc(171): error C2065: 'ssize_t': undeclared identifier\n",
      "    python/fasttext_module/fasttext/pybind/fasttext_pybind.cc(171): error C2672: 'pybind11::init': no matching overloaded function found\n",
      "    python/fasttext_module/fasttext/pybind/fasttext_pybind.cc(170): error C2974: 'pybind11::init': invalid template argument for 'CFunc', type expected\n",
      "    C:\\Users\\hrrrrustic\\AppData\\Local\\Programs\\Python\\Python310\\lib\\site-packages\\pybind11\\include\\pybind11\\pybind11.h(1702): note: see declaration of 'pybind11::init'\n",
      "    python/fasttext_module/fasttext/pybind/fasttext_pybind.cc(170): error C2974: 'pybind11::init': invalid template argument for 'Func', type expected\n",
      "    C:\\Users\\hrrrrustic\\AppData\\Local\\Programs\\Python\\Python310\\lib\\site-packages\\pybind11\\include\\pybind11\\pybind11.h(1697): note: see declaration of 'pybind11::init'\n",
      "    python/fasttext_module/fasttext/pybind/fasttext_pybind.cc(170): error C2974: 'pybind11::init': invalid template argument for 'Args', type expected\n",
      "    C:\\Users\\hrrrrustic\\AppData\\Local\\Programs\\Python\\Python310\\lib\\site-packages\\pybind11\\include\\pybind11\\pybind11.h(1690): note: see declaration of 'pybind11::init'\n",
      "    python/fasttext_module/fasttext/pybind/fasttext_pybind.cc(171): error C2672: 'pybind11::class_<fasttext::Vector>::def': no matching overloaded function found\n",
      "    python/fasttext_module/fasttext/pybind/fasttext_pybind.cc(170): error C2780: 'pybind11::class_<fasttext::Vector> &pybind11::class_<fasttext::Vector>::def(const char *,Func &&,const Extra &...)': expects 3 arguments - 1 provided\n",
      "    C:\\Users\\hrrrrustic\\AppData\\Local\\Programs\\Python\\Python310\\lib\\site-packages\\pybind11\\include\\pybind11\\pybind11.h(1416): note: see declaration of 'pybind11::class_<fasttext::Vector>::def'\n",
      "    python/fasttext_module/fasttext/pybind/fasttext_pybind.cc(185): error C2065: 'ssize_t': undeclared identifier\n",
      "    python/fasttext_module/fasttext/pybind/fasttext_pybind.cc(185): error C2065: 'ssize_t': undeclared identifier\n",
      "    python/fasttext_module/fasttext/pybind/fasttext_pybind.cc(185): error C2672: 'pybind11::init': no matching overloaded function found\n",
      "    python/fasttext_module/fasttext/pybind/fasttext_pybind.cc(182): error C2974: 'pybind11::init': invalid template argument for 'CFunc', type expected\n",
      "    C:\\Users\\hrrrrustic\\AppData\\Local\\Programs\\Python\\Python310\\lib\\site-packages\\pybind11\\include\\pybind11\\pybind11.h(1702): note: see declaration of 'pybind11::init'\n",
      "    python/fasttext_module/fasttext/pybind/fasttext_pybind.cc(182): error C2974: 'pybind11::init': invalid template argument for 'Func', type expected\n",
      "    C:\\Users\\hrrrrustic\\AppData\\Local\\Programs\\Python\\Python310\\lib\\site-packages\\pybind11\\include\\pybind11\\pybind11.h(1697): note: see declaration of 'pybind11::init'\n",
      "    python/fasttext_module/fasttext/pybind/fasttext_pybind.cc(182): error C2974: 'pybind11::init': invalid template argument for 'Args', type expected\n",
      "    C:\\Users\\hrrrrustic\\AppData\\Local\\Programs\\Python\\Python310\\lib\\site-packages\\pybind11\\include\\pybind11\\pybind11.h(1690): note: see declaration of 'pybind11::init'\n",
      "    python/fasttext_module/fasttext/pybind/fasttext_pybind.cc(185): error C2672: 'pybind11::class_<fasttext::DenseMatrix>::def': no matching overloaded function found\n",
      "    python/fasttext_module/fasttext/pybind/fasttext_pybind.cc(182): error C2780: 'pybind11::class_<fasttext::DenseMatrix> &pybind11::class_<fasttext::DenseMatrix>::def(const char *,Func &&,const Extra &...)': expects 3 arguments - 1 provided\n",
      "    C:\\Users\\hrrrrustic\\AppData\\Local\\Programs\\Python\\Python310\\lib\\site-packages\\pybind11\\include\\pybind11\\pybind11.h(1416): note: see declaration of 'pybind11::class_<fasttext::DenseMatrix>::def'\n",
      "    error: command 'C:\\\\Program Files\\\\Microsoft Visual Studio\\\\2022\\\\Enterprise\\\\VC\\\\Tools\\\\MSVC\\\\14.30.30705\\\\bin\\\\HostX86\\\\x64\\\\cl.exe' failed with exit code 2\n",
      "    ----------------------------------------\n",
      "ERROR: Command errored out with exit status 1: 'C:\\Users\\hrrrrustic\\AppData\\Local\\Programs\\Python\\Python310\\python.exe' -u -c 'import io, os, sys, setuptools, tokenize; sys.argv[0] = '\"'\"'C:\\\\Users\\\\hrrrrustic\\\\AppData\\\\Local\\\\Temp\\\\pip-install-sjb83jog\\\\fasttext_16f4fdff2c9440e2be9618d41b342663\\\\setup.py'\"'\"'; __file__='\"'\"'C:\\\\Users\\\\hrrrrustic\\\\AppData\\\\Local\\\\Temp\\\\pip-install-sjb83jog\\\\fasttext_16f4fdff2c9440e2be9618d41b342663\\\\setup.py'\"'\"';f = getattr(tokenize, '\"'\"'open'\"'\"', open)(__file__) if os.path.exists(__file__) else io.StringIO('\"'\"'from setuptools import setup; setup()'\"'\"');code = f.read().replace('\"'\"'\\r\\n'\"'\"', '\"'\"'\\n'\"'\"');f.close();exec(compile(code, __file__, '\"'\"'exec'\"'\"'))' install --record 'C:\\Users\\hrrrrustic\\AppData\\Local\\Temp\\pip-record-rj92figr\\install-record.txt' --single-version-externally-managed --compile --install-headers 'C:\\Users\\hrrrrustic\\AppData\\Local\\Programs\\Python\\Python310\\Include\\fasttext' Check the logs for full command output.\n",
      "WARNING: You are using pip version 21.2.4; however, version 22.0.4 is available.\n",
      "You should consider upgrading via the 'C:\\Users\\hrrrrustic\\AppData\\Local\\Programs\\Python\\Python310\\python.exe -m pip install --upgrade pip' command.\n"
     ]
    }
   ],
   "source": [
    "!pip install fasttext"
   ]
  },
  {
   "cell_type": "code",
   "execution_count": 22,
   "metadata": {
    "id": "r_U_aRnP-UT6",
    "scrolled": false
   },
   "outputs": [],
   "source": [
    "import numpy as np\n",
    "import io\n",
    "import fasttext\n",
    "from tqdm import tqdm"
   ]
  },
  {
   "cell_type": "code",
   "execution_count": 24,
   "metadata": {
    "colab": {
     "base_uri": "https://localhost:8080/",
     "height": 217
    },
    "id": "sXs_uofrCzsW",
    "outputId": "f6d35fdb-f057-4198-b894-4472d0e1fb40"
   },
   "outputs": [],
   "source": [
    "with open(\"train.txt\", 'w', encoding=\"utf-8\") as file:\n",
    "    file.write(' '.join(list(filter(lambda x: type(x) is str, dataset_temp))))\n",
    "\n",
    "model = fasttext.train_unsupervised(\"train.txt\", model='skipgram')"
   ]
  },
  {
   "cell_type": "code",
   "execution_count": 28,
   "metadata": {},
   "outputs": [
    {
     "ename": "TypeError",
     "evalue": "_FastText.get_word_vector() missing 1 required positional argument: 'word'",
     "output_type": "error",
     "traceback": [
      "\u001b[1;31m---------------------------------------------------------------------------\u001b[0m",
      "\u001b[1;31mTypeError\u001b[0m                                 Traceback (most recent call last)",
      "Input \u001b[1;32mIn [28]\u001b[0m, in \u001b[0;36m<cell line: 1>\u001b[1;34m()\u001b[0m\n\u001b[1;32m----> 1\u001b[0m \u001b[43mmodel\u001b[49m\u001b[38;5;241;43m.\u001b[39;49m\u001b[43mget_word_vector\u001b[49m\u001b[43m(\u001b[49m\u001b[43m)\u001b[49m\n",
      "\u001b[1;31mTypeError\u001b[0m: _FastText.get_word_vector() missing 1 required positional argument: 'word'"
     ]
    }
   ],
   "source": [
    "model.get_word_vector()"
   ]
  },
  {
   "cell_type": "code",
   "execution_count": 29,
   "metadata": {
    "id": "DLCWC62i-hs9"
   },
   "outputs": [],
   "source": [
    "def embed(text, needFix):\n",
    "  res = []\n",
    "  fixed_text = str(text).lower()\n",
    "  if needFix:\n",
    "    fixed_text = check_spelling(text)\n",
    "  tokens = tokenizer.tokenize(str(fixed_text).lower())\n",
    "\n",
    "  for token in tokens:\n",
    "    res.append(model.get_word_vector(token))\n",
    "\n",
    "  if not res:\n",
    "    print(\"test\")\n",
    "\n",
    "  return np.mean(res, axis=0)"
   ]
  },
  {
   "cell_type": "code",
   "execution_count": 30,
   "metadata": {
    "colab": {
     "base_uri": "https://localhost:8080/"
    },
    "id": "l1md29ZnLiio",
    "outputId": "96e24e0d-ece5-43ce-9596-eb2d8932a485",
    "scrolled": true
   },
   "outputs": [
    {
     "name": "stderr",
     "output_type": "stream",
     "text": [
      "100%|███████████████████████████████████████████████████████████████████████| 810906/810906 [00:58<00:00, 13945.12it/s]\n"
     ]
    }
   ],
   "source": [
    "from tqdm import tqdm\n",
    "\n",
    "embedded = list(tqdm(map(lambda x: embed(x, False), dataset_temp), total=len(dataset_temp)))"
   ]
  },
  {
   "cell_type": "code",
   "execution_count": 31,
   "metadata": {
    "id": "0o5ehxdQhTNi"
   },
   "outputs": [],
   "source": [
    "def cosine(u, v):\n",
    "  res = np.dot(u, v) / (np.linalg.norm(u) * np.linalg.norm(v))\n",
    "  return res\n",
    "\n",
    "def get_result(text):\n",
    "  query = embed(text, True)\n",
    "  cosines = [cosine(x, query) for x in embedded]\n",
    "\n",
    "  for i in np.argpartition(cosines, -10)[-10:]: # Функция argpartition() возвращает массив индексов элементов исходного массива в их разбиении по указанному значению\n",
    "    print(dataset_temp[i])"
   ]
  },
  {
   "cell_type": "code",
   "execution_count": 32,
   "metadata": {
    "colab": {
     "base_uri": "https://localhost:8080/"
    },
    "id": "K4kQl2X0huuQ",
    "outputId": "a6d0196e-a543-4847-cee9-e6750a7c4adb"
   },
   "outputs": [
    {
     "name": "stdout",
     "output_type": "stream",
     "text": [
      "какой самый большой город\n",
      "какой самый большой город\n",
      "какой самый большой город\n",
      "какой самый большой океан в мире\n",
      "какой самый большой город в мире\n",
      "какой самый большой город в мире\n",
      "какой самый большой океан в мире\n",
      "какой самый большой океан в мире\n",
      "какой самый большой город в Финляндии?\n",
      "какой самый большой город в мире\n"
     ]
    }
   ],
   "source": [
    "text = \"Какой город самый большой в мире?\"\n",
    "get_result(text)"
   ]
  },
  {
   "cell_type": "code",
   "execution_count": 33,
   "metadata": {
    "colab": {
     "base_uri": "https://localhost:8080/"
    },
    "id": "4QLwbrZFiANF",
    "outputId": "bb968ca2-7b2b-442e-a411-d04834a018db"
   },
   "outputs": [
    {
     "name": "stdout",
     "output_type": "stream",
     "text": [
      "какой самый большой город\n",
      "какой самый большой город\n",
      "какой самый большой город\n",
      "какой самый большой океан в мире\n",
      "какой самый большой город в мире\n",
      "какой самый большой город в мире\n",
      "какой самый большой океан в мире\n",
      "какой самый большой океан в мире\n",
      "какой самый большой город в Финляндии?\n",
      "какой самый большой город в мире\n"
     ]
    }
   ],
   "source": [
    "text = \"Кокой город самй бальшой в мире?\"\n",
    "\n",
    "get_result(text)"
   ]
  }
 ],
 "metadata": {
  "colab": {
   "collapsed_sections": [],
   "name": "Untitled1.ipynb",
   "provenance": []
  },
  "kernelspec": {
   "display_name": "Python 3 (ipykernel)",
   "language": "python",
   "name": "python3"
  },
  "language_info": {
   "codemirror_mode": {
    "name": "ipython",
    "version": 3
   },
   "file_extension": ".py",
   "mimetype": "text/x-python",
   "name": "python",
   "nbconvert_exporter": "python",
   "pygments_lexer": "ipython3",
   "version": "3.10.2"
  }
 },
 "nbformat": 4,
 "nbformat_minor": 1
}
